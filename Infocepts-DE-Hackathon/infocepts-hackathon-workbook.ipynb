{
 "cells": [
  {
   "cell_type": "markdown",
   "id": "99ae262b",
   "metadata": {},
   "source": [
    "#### Import libraries"
   ]
  },
  {
   "cell_type": "code",
   "execution_count": 1,
   "id": "1a3efa07",
   "metadata": {},
   "outputs": [],
   "source": [
    "import pandas as pd \n",
    "import numpy as np \n",
    "from datetime import datetime \n",
    "import xmltodict \n",
    "import matplotlib.pyplot as plt \n",
    "%matplotlib inline "
   ]
  },
  {
   "cell_type": "markdown",
   "id": "088235bb",
   "metadata": {},
   "source": [
    "#### Load file "
   ]
  },
  {
   "cell_type": "code",
   "execution_count": 2,
   "id": "38f7f470",
   "metadata": {},
   "outputs": [],
   "source": [
    "data = open('infocept_xml_data_.xml', 'r').read()\n",
    "data_dict = xmltodict.parse(data)\n",
    "data_dict = data_dict['data']['row']\n",
    "data_df = pd.DataFrame.from_dict(data_dict)"
   ]
  },
  {
   "cell_type": "markdown",
   "id": "690e24e3",
   "metadata": {},
   "source": [
    "#### Brief evaluation of data "
   ]
  },
  {
   "cell_type": "code",
   "execution_count": 3,
   "id": "3b13e731",
   "metadata": {},
   "outputs": [
    {
     "data": {
      "text/html": [
       "<div>\n",
       "<style scoped>\n",
       "    .dataframe tbody tr th:only-of-type {\n",
       "        vertical-align: middle;\n",
       "    }\n",
       "\n",
       "    .dataframe tbody tr th {\n",
       "        vertical-align: top;\n",
       "    }\n",
       "\n",
       "    .dataframe thead th {\n",
       "        text-align: right;\n",
       "    }\n",
       "</style>\n",
       "<table border=\"1\" class=\"dataframe\">\n",
       "  <thead>\n",
       "    <tr style=\"text-align: right;\">\n",
       "      <th></th>\n",
       "      <th>index</th>\n",
       "      <th>user_session</th>\n",
       "      <th>total_clicks</th>\n",
       "      <th>total_items</th>\n",
       "      <th>total_cats</th>\n",
       "      <th>max_dwell</th>\n",
       "      <th>mean_dwell</th>\n",
       "      <th>total_duration</th>\n",
       "      <th>click_rate</th>\n",
       "      <th>day_of_week</th>\n",
       "      <th>...</th>\n",
       "      <th>cat_most_viewed</th>\n",
       "      <th>prod_most_viewed_n_times</th>\n",
       "      <th>prod_most_viewed</th>\n",
       "      <th>cat_views_freqs</th>\n",
       "      <th>prod_views_freqs</th>\n",
       "      <th>cat_buys_freqs</th>\n",
       "      <th>prod_buys_freqs</th>\n",
       "      <th>is_purchase</th>\n",
       "      <th>start_time_ts</th>\n",
       "      <th>end_time_ts</th>\n",
       "    </tr>\n",
       "  </thead>\n",
       "  <tbody>\n",
       "    <tr>\n",
       "      <th>0</th>\n",
       "      <td>0</td>\n",
       "      <td>8b69208e-7c64-422d-b670-5b9d82d25606</td>\n",
       "      <td>7</td>\n",
       "      <td>2</td>\n",
       "      <td>1</td>\n",
       "      <td>0.5115078598666931</td>\n",
       "      <td>5.995877926032465</td>\n",
       "      <td>166.71117484170466</td>\n",
       "      <td>0.0725244742626448</td>\n",
       "      <td>1</td>\n",
       "      <td>...</td>\n",
       "      <td>2053013560982667520</td>\n",
       "      <td>1.0</td>\n",
       "      <td>1030297</td>\n",
       "      <td>0.2678021521567366</td>\n",
       "      <td>0.0009451491729694</td>\n",
       "      <td>0.2337402332570538</td>\n",
       "      <td>0.0006900279353354</td>\n",
       "      <td>0</td>\n",
       "      <td>October 07, 2019 Monday, 00:08:28</td>\n",
       "      <td>October 26, 2019 Saturday, 16:08:29</td>\n",
       "    </tr>\n",
       "    <tr>\n",
       "      <th>1</th>\n",
       "      <td>1</td>\n",
       "      <td>8068596c-a2b8-46ca-8791-e10d70520a1f</td>\n",
       "      <td>7</td>\n",
       "      <td>2</td>\n",
       "      <td>1</td>\n",
       "      <td>7.626575685782095</td>\n",
       "      <td>3.5291647514620803</td>\n",
       "      <td>0.4341847739325721</td>\n",
       "      <td>0.2042478218468011</td>\n",
       "      <td>0</td>\n",
       "      <td>...</td>\n",
       "      <td>2053013602328876544</td>\n",
       "      <td>1.0</td>\n",
       "      <td>36083228</td>\n",
       "      <td>0.1409251198603834</td>\n",
       "      <td>0.0009458164456021</td>\n",
       "      <td>0.4550292185895114</td>\n",
       "      <td>0.0006896519366427</td>\n",
       "      <td>0</td>\n",
       "      <td>October 01, 2019 Tuesday, 15:08:40</td>\n",
       "      <td>October 15, 2019 Tuesday, 20:03:18</td>\n",
       "    </tr>\n",
       "    <tr>\n",
       "      <th>2</th>\n",
       "      <td>2</td>\n",
       "      <td>4d153217-e06d-4581-8924-702c7f757610</td>\n",
       "      <td>2</td>\n",
       "      <td>22</td>\n",
       "      <td>1</td>\n",
       "      <td>3.0956374607750474</td>\n",
       "      <td>180.97751575631065</td>\n",
       "      <td>0.935320447421298</td>\n",
       "      <td>0.0459822489852758</td>\n",
       "      <td>4</td>\n",
       "      <td>...</td>\n",
       "      <td>2175094838038844672</td>\n",
       "      <td>2.0</td>\n",
       "      <td>1002263</td>\n",
       "      <td>0.0002938263260135</td>\n",
       "      <td>0.0009453910736723</td>\n",
       "      <td>9.102016583495409e-08</td>\n",
       "      <td>0.0006900877869533</td>\n",
       "      <td>0</td>\n",
       "      <td>October 14, 2019 Monday, 21:17:24</td>\n",
       "      <td>October 23, 2019 Wednesday, 21:56:30</td>\n",
       "    </tr>\n",
       "    <tr>\n",
       "      <th>3</th>\n",
       "      <td>3</td>\n",
       "      <td>e65a6869-fb45-4f34-8482-c80278676d0f</td>\n",
       "      <td>2</td>\n",
       "      <td>2</td>\n",
       "      <td>1</td>\n",
       "      <td>1.0891282494607244</td>\n",
       "      <td>4.33828036473822</td>\n",
       "      <td>0.4170550606952284</td>\n",
       "      <td>0.0284757557656416</td>\n",
       "      <td>0</td>\n",
       "      <td>...</td>\n",
       "      <td>2053013568140556288</td>\n",
       "      <td>3.0</td>\n",
       "      <td>1003257</td>\n",
       "      <td>0.1501068135750563</td>\n",
       "      <td>0.0009449909696147</td>\n",
       "      <td>0.4550279409441771</td>\n",
       "      <td>0.0007388217985755</td>\n",
       "      <td>0</td>\n",
       "      <td>October 05, 2019 Saturday, 21:54:13</td>\n",
       "      <td>October 17, 2019 Thursday, 13:54:29</td>\n",
       "    </tr>\n",
       "    <tr>\n",
       "      <th>4</th>\n",
       "      <td>4</td>\n",
       "      <td>d8206742-06d7-42a2-8163-d70f9dd6cb18</td>\n",
       "      <td>5</td>\n",
       "      <td>1</td>\n",
       "      <td>1</td>\n",
       "      <td>0.3298140458866487</td>\n",
       "      <td>3.1808911181790744</td>\n",
       "      <td>2.485719583259645</td>\n",
       "      <td>0.0948123574889597</td>\n",
       "      <td>5</td>\n",
       "      <td>...</td>\n",
       "      <td>2053013558410492160</td>\n",
       "      <td>1.0</td>\n",
       "      <td>13728056</td>\n",
       "      <td>0.2677838216567613</td>\n",
       "      <td>0.0009450520425059</td>\n",
       "      <td>0.4550284240027174</td>\n",
       "      <td>0.0006895188328313</td>\n",
       "      <td>0</td>\n",
       "      <td>October 09, 2019 Wednesday, 13:33:22</td>\n",
       "      <td>October 29, 2019 Tuesday, 11:51:04</td>\n",
       "    </tr>\n",
       "  </tbody>\n",
       "</table>\n",
       "<p>5 rows × 24 columns</p>\n",
       "</div>"
      ],
      "text/plain": [
       "  index                          user_session total_clicks total_items  \\\n",
       "0     0  8b69208e-7c64-422d-b670-5b9d82d25606            7           2   \n",
       "1     1  8068596c-a2b8-46ca-8791-e10d70520a1f            7           2   \n",
       "2     2  4d153217-e06d-4581-8924-702c7f757610            2          22   \n",
       "3     3  e65a6869-fb45-4f34-8482-c80278676d0f            2           2   \n",
       "4     4  d8206742-06d7-42a2-8163-d70f9dd6cb18            5           1   \n",
       "\n",
       "  total_cats           max_dwell          mean_dwell      total_duration  \\\n",
       "0          1  0.5115078598666931   5.995877926032465  166.71117484170466   \n",
       "1          1   7.626575685782095  3.5291647514620803  0.4341847739325721   \n",
       "2          1  3.0956374607750474  180.97751575631065   0.935320447421298   \n",
       "3          1  1.0891282494607244    4.33828036473822  0.4170550606952284   \n",
       "4          1  0.3298140458866487  3.1808911181790744   2.485719583259645   \n",
       "\n",
       "           click_rate day_of_week  ...      cat_most_viewed  \\\n",
       "0  0.0725244742626448           1  ...  2053013560982667520   \n",
       "1  0.2042478218468011           0  ...  2053013602328876544   \n",
       "2  0.0459822489852758           4  ...  2175094838038844672   \n",
       "3  0.0284757557656416           0  ...  2053013568140556288   \n",
       "4  0.0948123574889597           5  ...  2053013558410492160   \n",
       "\n",
       "  prod_most_viewed_n_times prod_most_viewed     cat_views_freqs  \\\n",
       "0                      1.0          1030297  0.2678021521567366   \n",
       "1                      1.0         36083228  0.1409251198603834   \n",
       "2                      2.0          1002263  0.0002938263260135   \n",
       "3                      3.0          1003257  0.1501068135750563   \n",
       "4                      1.0         13728056  0.2677838216567613   \n",
       "\n",
       "     prod_views_freqs         cat_buys_freqs     prod_buys_freqs is_purchase  \\\n",
       "0  0.0009451491729694     0.2337402332570538  0.0006900279353354           0   \n",
       "1  0.0009458164456021     0.4550292185895114  0.0006896519366427           0   \n",
       "2  0.0009453910736723  9.102016583495409e-08  0.0006900877869533           0   \n",
       "3  0.0009449909696147     0.4550279409441771  0.0007388217985755           0   \n",
       "4  0.0009450520425059     0.4550284240027174  0.0006895188328313           0   \n",
       "\n",
       "                          start_time_ts                           end_time_ts  \n",
       "0     October 07, 2019 Monday, 00:08:28   October 26, 2019 Saturday, 16:08:29  \n",
       "1    October 01, 2019 Tuesday, 15:08:40    October 15, 2019 Tuesday, 20:03:18  \n",
       "2     October 14, 2019 Monday, 21:17:24  October 23, 2019 Wednesday, 21:56:30  \n",
       "3   October 05, 2019 Saturday, 21:54:13   October 17, 2019 Thursday, 13:54:29  \n",
       "4  October 09, 2019 Wednesday, 13:33:22    October 29, 2019 Tuesday, 11:51:04  \n",
       "\n",
       "[5 rows x 24 columns]"
      ]
     },
     "execution_count": 3,
     "metadata": {},
     "output_type": "execute_result"
    }
   ],
   "source": [
    "data_df.head()"
   ]
  },
  {
   "cell_type": "code",
   "execution_count": 4,
   "id": "cbdff7a0",
   "metadata": {},
   "outputs": [
    {
     "data": {
      "text/plain": [
       "index                       object\n",
       "user_session                object\n",
       "total_clicks                object\n",
       "total_items                 object\n",
       "total_cats                  object\n",
       "max_dwell                   object\n",
       "mean_dwell                  object\n",
       "total_duration              object\n",
       "click_rate                  object\n",
       "day_of_week                 object\n",
       "is_weekend                  object\n",
       "is_special_day              object\n",
       "time_of_day                 object\n",
       "cat_most_viewed_n_times     object\n",
       "cat_most_viewed             object\n",
       "prod_most_viewed_n_times    object\n",
       "prod_most_viewed            object\n",
       "cat_views_freqs             object\n",
       "prod_views_freqs            object\n",
       "cat_buys_freqs              object\n",
       "prod_buys_freqs             object\n",
       "is_purchase                 object\n",
       "start_time_ts               object\n",
       "end_time_ts                 object\n",
       "dtype: object"
      ]
     },
     "execution_count": 4,
     "metadata": {},
     "output_type": "execute_result"
    }
   ],
   "source": [
    "data_df.dtypes "
   ]
  },
  {
   "cell_type": "code",
   "execution_count": 5,
   "id": "1baf47ab",
   "metadata": {},
   "outputs": [
    {
     "data": {
      "text/plain": [
       "index                       0\n",
       "user_session                0\n",
       "total_clicks                0\n",
       "total_items                 0\n",
       "total_cats                  0\n",
       "max_dwell                   0\n",
       "mean_dwell                  0\n",
       "total_duration              0\n",
       "click_rate                  0\n",
       "day_of_week                 0\n",
       "is_weekend                  0\n",
       "is_special_day              0\n",
       "time_of_day                 0\n",
       "cat_most_viewed_n_times     0\n",
       "cat_most_viewed             0\n",
       "prod_most_viewed_n_times    0\n",
       "prod_most_viewed            0\n",
       "cat_views_freqs             0\n",
       "prod_views_freqs            0\n",
       "cat_buys_freqs              0\n",
       "prod_buys_freqs             0\n",
       "is_purchase                 0\n",
       "start_time_ts               0\n",
       "end_time_ts                 0\n",
       "dtype: int64"
      ]
     },
     "execution_count": 5,
     "metadata": {},
     "output_type": "execute_result"
    }
   ],
   "source": [
    "data_df.isna().sum()"
   ]
  },
  {
   "cell_type": "markdown",
   "id": "7314a61f",
   "metadata": {},
   "source": [
    "#### Function to calculate \"time_spec_points\""
   ]
  },
  {
   "cell_type": "code",
   "execution_count": 8,
   "id": "3fb9fdca",
   "metadata": {},
   "outputs": [],
   "source": [
    "def cal_time_spec_points(x):\n",
    "    points = x.hour\n",
    "    points = points + 5 if ((x.hour >= 16) & (x.minute > 0) & (x.second > 0 )) else points\n",
    "    \n",
    "    return points "
   ]
  },
  {
   "cell_type": "markdown",
   "id": "05d5583f",
   "metadata": {},
   "source": [
    "#### Data transformations "
   ]
  },
  {
   "cell_type": "code",
   "execution_count": 9,
   "id": "cfd2ecd4",
   "metadata": {},
   "outputs": [],
   "source": [
    "data_df['start_time_ts'] = pd.to_datetime(data_df['start_time_ts'], format='%B %d, %Y %A, %H:%M:%S')\n",
    "data_df['time_spec_points'] = data_df['start_time_ts'].apply(lambda x: cal_time_spec_points(x))\n",
    "data_df['total_duration_copy'] = data_df['total_duration'].astype(float).copy()\n",
    "data_df['total_duration'] = data_df['total_duration'].astype(float).round(2)\n",
    "data_df['total_inventory'] = data_df['total_clicks'].astype(int) + data_df['total_items'].astype(int) + data_df['total_cats'].astype(int)\n",
    "data_df['total_inventory'] =  np.where(data_df['total_inventory'] > 10, data_df['total_inventory']*2 ,data_df['total_inventory'])\n",
    "data_df['give_big_discount'] = np.where(((data_df['day_of_week'] == '0') & (data_df['is_special_day'] == '1')), 1, 0)\n",
    "data_df['prod_views_buys_ratio'] = data_df['prod_views_freqs'].astype(float) / data_df['prod_buys_freqs'].astype(float)\n",
    "data_df['loyalty_points'] = np.where(((data_df['day_of_week'] == '0') & (data_df['total_duration_copy'] > 3)), 10*(data_df['total_duration_copy'] - 3), 0)"
   ]
  },
  {
   "cell_type": "markdown",
   "id": "a55018b3",
   "metadata": {},
   "source": [
    "#### Write to output file "
   ]
  },
  {
   "cell_type": "code",
   "execution_count": null,
   "id": "eebd8578",
   "metadata": {},
   "outputs": [],
   "source": [
    "submission_df = pd.read_csv('infocept_submission.csv')\n",
    "final_submission = data_df[submission_df.columns]\n",
    "final_submission.to_csv('infocepts_transformed_submission.csv', index=False)"
   ]
  }
 ],
 "metadata": {
  "kernelspec": {
   "display_name": "Python 3",
   "language": "python",
   "name": "python3"
  },
  "language_info": {
   "codemirror_mode": {
    "name": "ipython",
    "version": 3
   },
   "file_extension": ".py",
   "mimetype": "text/x-python",
   "name": "python",
   "nbconvert_exporter": "python",
   "pygments_lexer": "ipython3",
   "version": "3.8.8"
  }
 },
 "nbformat": 4,
 "nbformat_minor": 5
}
