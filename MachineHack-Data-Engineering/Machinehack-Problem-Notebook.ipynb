{
 "cells": [
  {
   "cell_type": "code",
   "execution_count": 58,
   "id": "fd5e4c43",
   "metadata": {},
   "outputs": [],
   "source": [
    "import pandas as pd \n",
    "import numpy as np \n",
    "from datetime import datetime\n",
    "import math, statistics \n",
    "import matplotlib.pyplot as plt \n",
    "%matplotlib inline "
   ]
  },
  {
   "cell_type": "code",
   "execution_count": 65,
   "id": "010bc9e0",
   "metadata": {},
   "outputs": [],
   "source": [
    "from sklearn.impute import KNNImputer \n",
    "from sklearn.model_selection import train_test_split \n",
    "from sklearn.linear_model import LogisticRegression \n",
    "from sklearn.neighbors import KNeighborsClassifier \n",
    "from sklearn.metrics import accuracy_score"
   ]
  },
  {
   "cell_type": "markdown",
   "id": "4e7889b8",
   "metadata": {},
   "source": [
    "#### Brief checks on dataset "
   ]
  },
  {
   "cell_type": "code",
   "execution_count": 42,
   "id": "d5a2e80d",
   "metadata": {},
   "outputs": [],
   "source": [
    "flight_data = pd.read_csv('participants_dataset_DES.csv')"
   ]
  },
  {
   "cell_type": "code",
   "execution_count": 43,
   "id": "fa998ab0",
   "metadata": {},
   "outputs": [
    {
     "data": {
      "text/html": [
       "<div>\n",
       "<style scoped>\n",
       "    .dataframe tbody tr th:only-of-type {\n",
       "        vertical-align: middle;\n",
       "    }\n",
       "\n",
       "    .dataframe tbody tr th {\n",
       "        vertical-align: top;\n",
       "    }\n",
       "\n",
       "    .dataframe thead th {\n",
       "        text-align: right;\n",
       "    }\n",
       "</style>\n",
       "<table border=\"1\" class=\"dataframe\">\n",
       "  <thead>\n",
       "    <tr style=\"text-align: right;\">\n",
       "      <th></th>\n",
       "      <th>AIRPLANE_ID</th>\n",
       "      <th>YEAR</th>\n",
       "      <th>MONTH</th>\n",
       "      <th>DAY_OF_WEEK</th>\n",
       "      <th>DEP_DEL15</th>\n",
       "      <th>DEP_TIME_BLK</th>\n",
       "      <th>DISTANCE_GROUP</th>\n",
       "      <th>SEGMENT_NUMBER</th>\n",
       "      <th>CONCURRENT_FLIGHTS</th>\n",
       "      <th>NUMBER_OF_SEATS</th>\n",
       "      <th>...</th>\n",
       "      <th>PLANE_AGE</th>\n",
       "      <th>DEPARTING_AIRPORT</th>\n",
       "      <th>LATITUDE</th>\n",
       "      <th>LONGITUDE</th>\n",
       "      <th>PREVIOUS_AIRPORT</th>\n",
       "      <th>PRCP</th>\n",
       "      <th>SNOW</th>\n",
       "      <th>SNWD</th>\n",
       "      <th>TMAX</th>\n",
       "      <th>AWND</th>\n",
       "    </tr>\n",
       "  </thead>\n",
       "  <tbody>\n",
       "    <tr>\n",
       "      <th>0</th>\n",
       "      <td>608900</td>\n",
       "      <td>2020.0</td>\n",
       "      <td>1.0</td>\n",
       "      <td>4</td>\n",
       "      <td>0</td>\n",
       "      <td>0800-0859</td>\n",
       "      <td>NaN</td>\n",
       "      <td>3.0</td>\n",
       "      <td>22.0</td>\n",
       "      <td>NaN</td>\n",
       "      <td>...</td>\n",
       "      <td>11.0</td>\n",
       "      <td>Minneapolis-St Paul International</td>\n",
       "      <td>33.291</td>\n",
       "      <td>-75.177</td>\n",
       "      <td>McCarran International</td>\n",
       "      <td>NaN</td>\n",
       "      <td>NaN</td>\n",
       "      <td>0.0</td>\n",
       "      <td>NaN</td>\n",
       "      <td>NaN</td>\n",
       "    </tr>\n",
       "    <tr>\n",
       "      <th>1</th>\n",
       "      <td>211610</td>\n",
       "      <td>2020.0</td>\n",
       "      <td>1.0</td>\n",
       "      <td>4</td>\n",
       "      <td>0</td>\n",
       "      <td>0600-0659</td>\n",
       "      <td>5.0</td>\n",
       "      <td>3.0</td>\n",
       "      <td>25.0</td>\n",
       "      <td>76.0</td>\n",
       "      <td>...</td>\n",
       "      <td>2.0</td>\n",
       "      <td>Dallas Fort Worth Regional</td>\n",
       "      <td>34.163</td>\n",
       "      <td>-71.006</td>\n",
       "      <td>Orlando International</td>\n",
       "      <td>0.00</td>\n",
       "      <td>NaN</td>\n",
       "      <td>0.0</td>\n",
       "      <td>57.0</td>\n",
       "      <td>4.93</td>\n",
       "    </tr>\n",
       "    <tr>\n",
       "      <th>2</th>\n",
       "      <td>566705</td>\n",
       "      <td>NaN</td>\n",
       "      <td>1.0</td>\n",
       "      <td>4</td>\n",
       "      <td>0</td>\n",
       "      <td>1200-1259</td>\n",
       "      <td>3.0</td>\n",
       "      <td>NaN</td>\n",
       "      <td>19.0</td>\n",
       "      <td>174.0</td>\n",
       "      <td>...</td>\n",
       "      <td>11.0</td>\n",
       "      <td>Norfolk International</td>\n",
       "      <td>29.534</td>\n",
       "      <td>-81.622</td>\n",
       "      <td>Chicago Midway International</td>\n",
       "      <td>NaN</td>\n",
       "      <td>0.0</td>\n",
       "      <td>0.0</td>\n",
       "      <td>77.0</td>\n",
       "      <td>7.58</td>\n",
       "    </tr>\n",
       "    <tr>\n",
       "      <th>3</th>\n",
       "      <td>338088</td>\n",
       "      <td>2020.0</td>\n",
       "      <td>NaN</td>\n",
       "      <td>3</td>\n",
       "      <td>1</td>\n",
       "      <td>1000-1059</td>\n",
       "      <td>7.0</td>\n",
       "      <td>NaN</td>\n",
       "      <td>NaN</td>\n",
       "      <td>143.0</td>\n",
       "      <td>...</td>\n",
       "      <td>6.0</td>\n",
       "      <td>Dallas Fort Worth Regional</td>\n",
       "      <td>38.836</td>\n",
       "      <td>-91.015</td>\n",
       "      <td>Syracuse Hancock International</td>\n",
       "      <td>0.00</td>\n",
       "      <td>0.0</td>\n",
       "      <td>1.2</td>\n",
       "      <td>39.0</td>\n",
       "      <td>6.98</td>\n",
       "    </tr>\n",
       "    <tr>\n",
       "      <th>4</th>\n",
       "      <td>216070</td>\n",
       "      <td>2020.0</td>\n",
       "      <td>1.0</td>\n",
       "      <td>3</td>\n",
       "      <td>1</td>\n",
       "      <td>2200-2259</td>\n",
       "      <td>NaN</td>\n",
       "      <td>NaN</td>\n",
       "      <td>28.0</td>\n",
       "      <td>49.0</td>\n",
       "      <td>...</td>\n",
       "      <td>NaN</td>\n",
       "      <td>Newark Liberty International</td>\n",
       "      <td>36.090</td>\n",
       "      <td>-95.852</td>\n",
       "      <td>Los Angeles International</td>\n",
       "      <td>0.34</td>\n",
       "      <td>0.4</td>\n",
       "      <td>NaN</td>\n",
       "      <td>35.0</td>\n",
       "      <td>13.79</td>\n",
       "    </tr>\n",
       "  </tbody>\n",
       "</table>\n",
       "<p>5 rows × 28 columns</p>\n",
       "</div>"
      ],
      "text/plain": [
       "   AIRPLANE_ID    YEAR  MONTH  DAY_OF_WEEK  DEP_DEL15 DEP_TIME_BLK  \\\n",
       "0       608900  2020.0    1.0            4          0    0800-0859   \n",
       "1       211610  2020.0    1.0            4          0    0600-0659   \n",
       "2       566705     NaN    1.0            4          0    1200-1259   \n",
       "3       338088  2020.0    NaN            3          1    1000-1059   \n",
       "4       216070  2020.0    1.0            3          1    2200-2259   \n",
       "\n",
       "   DISTANCE_GROUP  SEGMENT_NUMBER  CONCURRENT_FLIGHTS  NUMBER_OF_SEATS  ...  \\\n",
       "0             NaN             3.0                22.0              NaN  ...   \n",
       "1             5.0             3.0                25.0             76.0  ...   \n",
       "2             3.0             NaN                19.0            174.0  ...   \n",
       "3             7.0             NaN                 NaN            143.0  ...   \n",
       "4             NaN             NaN                28.0             49.0  ...   \n",
       "\n",
       "  PLANE_AGE                  DEPARTING_AIRPORT  LATITUDE  LONGITUDE  \\\n",
       "0      11.0  Minneapolis-St Paul International    33.291    -75.177   \n",
       "1       2.0         Dallas Fort Worth Regional    34.163    -71.006   \n",
       "2      11.0              Norfolk International    29.534    -81.622   \n",
       "3       6.0         Dallas Fort Worth Regional    38.836    -91.015   \n",
       "4       NaN       Newark Liberty International    36.090    -95.852   \n",
       "\n",
       "                 PREVIOUS_AIRPORT  PRCP  SNOW  SNWD  TMAX   AWND  \n",
       "0          McCarran International   NaN   NaN   0.0   NaN    NaN  \n",
       "1           Orlando International  0.00   NaN   0.0  57.0   4.93  \n",
       "2    Chicago Midway International   NaN   0.0   0.0  77.0   7.58  \n",
       "3  Syracuse Hancock International  0.00   0.0   1.2  39.0   6.98  \n",
       "4       Los Angeles International  0.34   0.4   NaN  35.0  13.79  \n",
       "\n",
       "[5 rows x 28 columns]"
      ]
     },
     "execution_count": 43,
     "metadata": {},
     "output_type": "execute_result"
    }
   ],
   "source": [
    "flight_data.head()"
   ]
  },
  {
   "cell_type": "code",
   "execution_count": 44,
   "id": "6f51eb46",
   "metadata": {},
   "outputs": [
    {
     "data": {
      "text/plain": [
       "(200000, 28)"
      ]
     },
     "execution_count": 44,
     "metadata": {},
     "output_type": "execute_result"
    }
   ],
   "source": [
    "flight_data.shape"
   ]
  },
  {
   "cell_type": "code",
   "execution_count": 45,
   "id": "dfaced4d",
   "metadata": {},
   "outputs": [
    {
     "data": {
      "text/html": [
       "<div>\n",
       "<style scoped>\n",
       "    .dataframe tbody tr th:only-of-type {\n",
       "        vertical-align: middle;\n",
       "    }\n",
       "\n",
       "    .dataframe tbody tr th {\n",
       "        vertical-align: top;\n",
       "    }\n",
       "\n",
       "    .dataframe thead th {\n",
       "        text-align: right;\n",
       "    }\n",
       "</style>\n",
       "<table border=\"1\" class=\"dataframe\">\n",
       "  <thead>\n",
       "    <tr style=\"text-align: right;\">\n",
       "      <th></th>\n",
       "      <th>AIRPLANE_ID</th>\n",
       "      <th>YEAR</th>\n",
       "      <th>MONTH</th>\n",
       "      <th>DAY_OF_WEEK</th>\n",
       "      <th>DEP_DEL15</th>\n",
       "      <th>DEP_TIME_BLK</th>\n",
       "      <th>DISTANCE_GROUP</th>\n",
       "      <th>SEGMENT_NUMBER</th>\n",
       "      <th>CONCURRENT_FLIGHTS</th>\n",
       "      <th>NUMBER_OF_SEATS</th>\n",
       "      <th>...</th>\n",
       "      <th>PLANE_AGE</th>\n",
       "      <th>DEPARTING_AIRPORT</th>\n",
       "      <th>LATITUDE</th>\n",
       "      <th>LONGITUDE</th>\n",
       "      <th>PREVIOUS_AIRPORT</th>\n",
       "      <th>PRCP</th>\n",
       "      <th>SNOW</th>\n",
       "      <th>SNWD</th>\n",
       "      <th>TMAX</th>\n",
       "      <th>AWND</th>\n",
       "    </tr>\n",
       "  </thead>\n",
       "  <tbody>\n",
       "    <tr>\n",
       "      <th>0</th>\n",
       "      <td>608900</td>\n",
       "      <td>2020.0</td>\n",
       "      <td>1.0</td>\n",
       "      <td>4</td>\n",
       "      <td>0</td>\n",
       "      <td>0800-0859</td>\n",
       "      <td>NaN</td>\n",
       "      <td>3.0</td>\n",
       "      <td>22.0</td>\n",
       "      <td>NaN</td>\n",
       "      <td>...</td>\n",
       "      <td>11.0</td>\n",
       "      <td>Minneapolis-St Paul International</td>\n",
       "      <td>33.291</td>\n",
       "      <td>-75.177</td>\n",
       "      <td>McCarran International</td>\n",
       "      <td>NaN</td>\n",
       "      <td>NaN</td>\n",
       "      <td>0.0</td>\n",
       "      <td>NaN</td>\n",
       "      <td>NaN</td>\n",
       "    </tr>\n",
       "    <tr>\n",
       "      <th>1</th>\n",
       "      <td>211610</td>\n",
       "      <td>2020.0</td>\n",
       "      <td>1.0</td>\n",
       "      <td>4</td>\n",
       "      <td>0</td>\n",
       "      <td>0600-0659</td>\n",
       "      <td>5.0</td>\n",
       "      <td>3.0</td>\n",
       "      <td>25.0</td>\n",
       "      <td>76.0</td>\n",
       "      <td>...</td>\n",
       "      <td>2.0</td>\n",
       "      <td>Dallas Fort Worth Regional</td>\n",
       "      <td>34.163</td>\n",
       "      <td>-71.006</td>\n",
       "      <td>Orlando International</td>\n",
       "      <td>0.00</td>\n",
       "      <td>NaN</td>\n",
       "      <td>0.0</td>\n",
       "      <td>57.0</td>\n",
       "      <td>4.93</td>\n",
       "    </tr>\n",
       "    <tr>\n",
       "      <th>2</th>\n",
       "      <td>566705</td>\n",
       "      <td>NaN</td>\n",
       "      <td>1.0</td>\n",
       "      <td>4</td>\n",
       "      <td>0</td>\n",
       "      <td>1200-1259</td>\n",
       "      <td>3.0</td>\n",
       "      <td>NaN</td>\n",
       "      <td>19.0</td>\n",
       "      <td>174.0</td>\n",
       "      <td>...</td>\n",
       "      <td>11.0</td>\n",
       "      <td>Norfolk International</td>\n",
       "      <td>29.534</td>\n",
       "      <td>-81.622</td>\n",
       "      <td>Chicago Midway International</td>\n",
       "      <td>NaN</td>\n",
       "      <td>0.0</td>\n",
       "      <td>0.0</td>\n",
       "      <td>77.0</td>\n",
       "      <td>7.58</td>\n",
       "    </tr>\n",
       "    <tr>\n",
       "      <th>3</th>\n",
       "      <td>338088</td>\n",
       "      <td>2020.0</td>\n",
       "      <td>NaN</td>\n",
       "      <td>3</td>\n",
       "      <td>1</td>\n",
       "      <td>1000-1059</td>\n",
       "      <td>7.0</td>\n",
       "      <td>NaN</td>\n",
       "      <td>NaN</td>\n",
       "      <td>143.0</td>\n",
       "      <td>...</td>\n",
       "      <td>6.0</td>\n",
       "      <td>Dallas Fort Worth Regional</td>\n",
       "      <td>38.836</td>\n",
       "      <td>-91.015</td>\n",
       "      <td>Syracuse Hancock International</td>\n",
       "      <td>0.00</td>\n",
       "      <td>0.0</td>\n",
       "      <td>1.2</td>\n",
       "      <td>39.0</td>\n",
       "      <td>6.98</td>\n",
       "    </tr>\n",
       "    <tr>\n",
       "      <th>4</th>\n",
       "      <td>216070</td>\n",
       "      <td>2020.0</td>\n",
       "      <td>1.0</td>\n",
       "      <td>3</td>\n",
       "      <td>1</td>\n",
       "      <td>2200-2259</td>\n",
       "      <td>NaN</td>\n",
       "      <td>NaN</td>\n",
       "      <td>28.0</td>\n",
       "      <td>49.0</td>\n",
       "      <td>...</td>\n",
       "      <td>NaN</td>\n",
       "      <td>Newark Liberty International</td>\n",
       "      <td>36.090</td>\n",
       "      <td>-95.852</td>\n",
       "      <td>Los Angeles International</td>\n",
       "      <td>0.34</td>\n",
       "      <td>0.4</td>\n",
       "      <td>NaN</td>\n",
       "      <td>35.0</td>\n",
       "      <td>13.79</td>\n",
       "    </tr>\n",
       "  </tbody>\n",
       "</table>\n",
       "<p>5 rows × 28 columns</p>\n",
       "</div>"
      ],
      "text/plain": [
       "   AIRPLANE_ID    YEAR  MONTH  DAY_OF_WEEK  DEP_DEL15 DEP_TIME_BLK  \\\n",
       "0       608900  2020.0    1.0            4          0    0800-0859   \n",
       "1       211610  2020.0    1.0            4          0    0600-0659   \n",
       "2       566705     NaN    1.0            4          0    1200-1259   \n",
       "3       338088  2020.0    NaN            3          1    1000-1059   \n",
       "4       216070  2020.0    1.0            3          1    2200-2259   \n",
       "\n",
       "   DISTANCE_GROUP  SEGMENT_NUMBER  CONCURRENT_FLIGHTS  NUMBER_OF_SEATS  ...  \\\n",
       "0             NaN             3.0                22.0              NaN  ...   \n",
       "1             5.0             3.0                25.0             76.0  ...   \n",
       "2             3.0             NaN                19.0            174.0  ...   \n",
       "3             7.0             NaN                 NaN            143.0  ...   \n",
       "4             NaN             NaN                28.0             49.0  ...   \n",
       "\n",
       "  PLANE_AGE                  DEPARTING_AIRPORT  LATITUDE  LONGITUDE  \\\n",
       "0      11.0  Minneapolis-St Paul International    33.291    -75.177   \n",
       "1       2.0         Dallas Fort Worth Regional    34.163    -71.006   \n",
       "2      11.0              Norfolk International    29.534    -81.622   \n",
       "3       6.0         Dallas Fort Worth Regional    38.836    -91.015   \n",
       "4       NaN       Newark Liberty International    36.090    -95.852   \n",
       "\n",
       "                 PREVIOUS_AIRPORT  PRCP  SNOW  SNWD  TMAX   AWND  \n",
       "0          McCarran International   NaN   NaN   0.0   NaN    NaN  \n",
       "1           Orlando International  0.00   NaN   0.0  57.0   4.93  \n",
       "2    Chicago Midway International   NaN   0.0   0.0  77.0   7.58  \n",
       "3  Syracuse Hancock International  0.00   0.0   1.2  39.0   6.98  \n",
       "4       Los Angeles International  0.34   0.4   NaN  35.0  13.79  \n",
       "\n",
       "[5 rows x 28 columns]"
      ]
     },
     "execution_count": 45,
     "metadata": {},
     "output_type": "execute_result"
    }
   ],
   "source": [
    "flight_data.head()"
   ]
  },
  {
   "cell_type": "code",
   "execution_count": 46,
   "id": "28de82d6",
   "metadata": {},
   "outputs": [],
   "source": [
    "flight_data_clean = flight_data.dropna(how='any').reset_index(drop=True)"
   ]
  },
  {
   "cell_type": "code",
   "execution_count": 47,
   "id": "f5b622be",
   "metadata": {},
   "outputs": [
    {
     "data": {
      "text/plain": [
       "(2926, 28)"
      ]
     },
     "execution_count": 47,
     "metadata": {},
     "output_type": "execute_result"
    }
   ],
   "source": [
    "flight_data_clean.shape"
   ]
  },
  {
   "cell_type": "code",
   "execution_count": 48,
   "id": "72eef0b9",
   "metadata": {},
   "outputs": [
    {
     "data": {
      "text/plain": [
       "(array([6, 4, 3, 2, 1, 5, 7]), array([4, 3, 2, 6, 1, 7, 5]))"
      ]
     },
     "execution_count": 48,
     "metadata": {},
     "output_type": "execute_result"
    }
   ],
   "source": [
    "flight_data_clean['DAY_OF_WEEK'].unique(), flight_data['DAY_OF_WEEK'].unique()"
   ]
  },
  {
   "cell_type": "code",
   "execution_count": 49,
   "id": "e9393261",
   "metadata": {},
   "outputs": [
    {
     "data": {
      "text/plain": [
       "(array([1.]), array([ 1., nan]))"
      ]
     },
     "execution_count": 49,
     "metadata": {},
     "output_type": "execute_result"
    }
   ],
   "source": [
    "flight_data_clean['MONTH'].unique(), flight_data['MONTH'].unique()"
   ]
  },
  {
   "cell_type": "code",
   "execution_count": 50,
   "id": "f8f2e949",
   "metadata": {},
   "outputs": [
    {
     "data": {
      "text/plain": [
       "(array([2020.]), array([2020.,   nan]))"
      ]
     },
     "execution_count": 50,
     "metadata": {},
     "output_type": "execute_result"
    }
   ],
   "source": [
    "flight_data_clean['YEAR'].unique(), flight_data['YEAR'].unique()"
   ]
  },
  {
   "cell_type": "code",
   "execution_count": 51,
   "id": "678242bb",
   "metadata": {},
   "outputs": [
    {
     "data": {
      "text/plain": [
       "array(['1200-1259', '0800-0859', '1100-1159', '1900-1959', '1000-1059',\n",
       "       '1700-1759', '0700-0759', '2000-2059', '1400-1459', '0900-0959',\n",
       "       '1800-1859', '1500-1559', '0600-0659', '1600-1659', '1300-1359',\n",
       "       '2100-2159', '2200-2259', '0001-0559', '2300-2359'], dtype=object)"
      ]
     },
     "execution_count": 51,
     "metadata": {},
     "output_type": "execute_result"
    }
   ],
   "source": [
    "flight_data_clean['DEP_TIME_BLK'].unique()"
   ]
  },
  {
   "cell_type": "code",
   "execution_count": 52,
   "id": "26db6090",
   "metadata": {},
   "outputs": [
    {
     "data": {
      "text/plain": [
       "array(['Houston Intercontinental', 'Lambert-St. Louis International',\n",
       "       'Logan International', \"Chicago O'Hare International\",\n",
       "       'Indianapolis Muni/Weir Cook', 'Austin - Bergstrom International',\n",
       "       'Dallas Fort Worth Regional', 'Miami International',\n",
       "       'Stapleton International', 'Douglas Municipal',\n",
       "       'Seattle International', 'Philadelphia International',\n",
       "       'Los Angeles International',\n",
       "       'Louis Armstrong New Orleans International',\n",
       "       'Honolulu International', 'Southwest Florida International',\n",
       "       'Atlanta Municipal', 'Detroit Metro Wayne County',\n",
       "       'Kansas City International', 'Minneapolis-St Paul International',\n",
       "       'Kent County', 'Ronald Reagan Washington National',\n",
       "       'San Diego International Lindbergh Fl',\n",
       "       'Newark Liberty International', 'Tampa International',\n",
       "       'John F. Kennedy International', 'McGhee Tyson',\n",
       "       'Fort Lauderdale-Hollywood International',\n",
       "       'San Francisco International', 'Friendship International',\n",
       "       'LaGuardia', 'Phoenix Sky Harbor International',\n",
       "       'San Antonio International', 'Orlando International',\n",
       "       'San Jose International', 'Tucson International',\n",
       "       'Palm Beach International', 'McCarran International',\n",
       "       'Salt Lake City International', 'Orange County', 'Eppley Airfield',\n",
       "       'Memphis International', 'Jacksonville International',\n",
       "       'Washington Dulles International',\n",
       "       'Metropolitan Oakland International', 'Sacramento International',\n",
       "       'Port Columbus International', 'Standiford Field',\n",
       "       'General Mitchell Field', 'Portland International',\n",
       "       'Nashville International', 'Boise Air Terminal',\n",
       "       'Richmond International', 'Raleigh-Durham International',\n",
       "       'Norfolk International', 'Pittsburgh International',\n",
       "       'Piedmont Triad International', 'Birmingham Airport',\n",
       "       'Will Rogers World', 'Dallas Love Field', 'Greenville-Spartanburg',\n",
       "       'Chicago Midway International',\n",
       "       'Cincinnati/Northern Kentucky International',\n",
       "       'Charleston International', 'Reno/Tahoe International',\n",
       "       'Palm Springs International', 'Greater Buffalo International',\n",
       "       'Albuquerque International Sunport'], dtype=object)"
      ]
     },
     "execution_count": 52,
     "metadata": {},
     "output_type": "execute_result"
    }
   ],
   "source": [
    "flight_data_clean['DEPARTING_AIRPORT'].unique()"
   ]
  },
  {
   "cell_type": "code",
   "execution_count": 53,
   "id": "11ce0df4",
   "metadata": {},
   "outputs": [
    {
     "data": {
      "text/plain": [
       "AIRPLANE_ID                        int64\n",
       "YEAR                             float64\n",
       "MONTH                            float64\n",
       "DAY_OF_WEEK                        int64\n",
       "DEP_DEL15                          int64\n",
       "DEP_TIME_BLK                      object\n",
       "DISTANCE_GROUP                   float64\n",
       "SEGMENT_NUMBER                   float64\n",
       "CONCURRENT_FLIGHTS               float64\n",
       "NUMBER_OF_SEATS                  float64\n",
       "CARRIER_NAME                      object\n",
       "AIRPORT_FLIGHTS_MONTH            float64\n",
       "AIRLINE_FLIGHTS_MONTH            float64\n",
       "AIRLINE_AIRPORT_FLIGHTS_MONTH    float64\n",
       "AVG_MONTHLY_PASS_AIRPORT         float64\n",
       "AVG_MONTHLY_PASS_AIRLINE         float64\n",
       "FLT_ATTENDANTS_PER_PASS          float64\n",
       "GROUND_SERV_PER_PASS             float64\n",
       "PLANE_AGE                        float64\n",
       "DEPARTING_AIRPORT                 object\n",
       "LATITUDE                         float64\n",
       "LONGITUDE                        float64\n",
       "PREVIOUS_AIRPORT                  object\n",
       "PRCP                             float64\n",
       "SNOW                             float64\n",
       "SNWD                             float64\n",
       "TMAX                             float64\n",
       "AWND                             float64\n",
       "dtype: object"
      ]
     },
     "execution_count": 53,
     "metadata": {},
     "output_type": "execute_result"
    }
   ],
   "source": [
    "flight_data_clean.dtypes"
   ]
  },
  {
   "cell_type": "markdown",
   "id": "50551bcb",
   "metadata": {},
   "source": [
    "#### Final data-checking "
   ]
  },
  {
   "cell_type": "code",
   "execution_count": 70,
   "id": "e01af7da",
   "metadata": {},
   "outputs": [],
   "source": [
    "def calc_wind_chill(tmax, awnd):\n",
    "    w_chill = 35.74 + 0.6215**tmax - 35.75 * awnd ** 0.16 + 0.4275 * tmax * awnd ** 0.16 \n",
    "    \n",
    "    return w_chill  "
   ]
  },
  {
   "cell_type": "code",
   "execution_count": 71,
   "id": "98e4a4ca",
   "metadata": {},
   "outputs": [],
   "source": [
    "def cal_date(day_of_week, month, year):\n",
    "    if (pd.isna(day_of_week) is False) & (pd.isna(month) is False) & (pd.isna(year) is False):\n",
    "        day_of_week, month, year = str(day_of_week), str(int(month)), str(int(year))\n",
    "        return '0' + day_of_week + '/' + '0' + month + '/' + year[-2:]\n",
    "    else:\n",
    "        return np.nan"
   ]
  },
  {
   "cell_type": "code",
   "execution_count": 72,
   "id": "ad3bef53",
   "metadata": {},
   "outputs": [],
   "source": [
    "def cal_timestamp(dt, low):\n",
    "    if (pd.isna(dt) is False) & (pd.isna(low) is False):\n",
    "        day, month, year, hh, mm = int(dt.split('/')[0]), int(dt.split('/')[1]), int('20' + dt.split('/')[2]), int(low[:2]), int(low[2:]) \n",
    "        return datetime.strftime(pd.Timestamp(day=day, month=month, year=year, hour=hh, minute=mm, second=0), '%d/%m/%y %H:%M')\n",
    "    else:\n",
    "        return np.nan "
   ]
  },
  {
   "cell_type": "code",
   "execution_count": 73,
   "id": "e3355721",
   "metadata": {},
   "outputs": [],
   "source": [
    "def prepare_concurrent_flights_df(df):\n",
    "    airports = df.DEPARTING_AIRPORT.unique()\n",
    "    weekdays = [sorted(df.DAY_OF_WEEK.unique())]*len(airports)\n",
    "    time_blk = [sorted(df.DEP_TIME_BLK.unique())] * len(airports)\n",
    "    con_flights = pd.DataFrame({'DEPARTING_AIRPORT': airports, 'DAY_OF_WEEK': weekdays, 'DEP_TIME_BLK': time_blk}).explode(['DAY_OF_WEEK']).explode(['DEP_TIME_BLK'])\n",
    "    con_dw_flights = df.groupby(['DEPARTING_AIRPORT', 'DAY_OF_WEEK', 'DEP_TIME_BLK'])['CONCURRENT_FLIGHTS'].median().reset_index()\n",
    "    concurrent_df = pd.merge(con_flights, con_dw_flights, on=['DEPARTING_AIRPORT', 'DAY_OF_WEEK', 'DEP_TIME_BLK'], how='left')\n",
    "    \n",
    "    ret_df = concurrent_df.pivot_table(index=['DEPARTING_AIRPORT', 'DAY_OF_WEEK'], columns='DEP_TIME_BLK', values='CONCURRENT_FLIGHTS', dropna=False, fill_value=0)\n",
    "    \n",
    "    return ret_df"
   ]
  },
  {
   "cell_type": "code",
   "execution_count": 74,
   "id": "345d5f48",
   "metadata": {},
   "outputs": [],
   "source": [
    "def identify_missing_data(flight_data_clean):\n",
    "    flight_data_clean['YEAR'].fillna(2020, inplace=True)\n",
    "    flight_data_clean['MONTH'].fillna(1, inplace=True)\n",
    "\n",
    "    avg_seats_per_airport_per_block = flight_data_clean.groupby(['DEPARTING_AIRPORT', 'DEP_TIME_BLK'])['NUMBER_OF_SEATS'].median().reset_index().pivot_table(index='DEPARTING_AIRPORT', columns='DEP_TIME_BLK', values='NUMBER_OF_SEATS').ffill(axis=1).bfill(axis=1)\n",
    "    avg_plane_age_per_airline_per_block = flight_data_clean.groupby(['CARRIER_NAME', 'DEP_TIME_BLK'])['PLANE_AGE'].median().reset_index().pivot_table(index='CARRIER_NAME', columns='DEP_TIME_BLK', values='PLANE_AGE').ffill(axis=1).bfill(axis=1)\n",
    "    avg_airline_airport_flights_month = flight_data_clean.groupby(['CARRIER_NAME', 'DEPARTING_AIRPORT'])['AIRLINE_AIRPORT_FLIGHTS_MONTH'].apply(lambda x: x.median(skipna=True)).reset_index().pivot_table(index='CARRIER_NAME', columns='DEPARTING_AIRPORT', values='AIRLINE_AIRPORT_FLIGHTS_MONTH').ffill(axis=1).bfill(axis=1)\n",
    "    concurrent_flights = flight_data_clean.groupby(['DEPARTING_AIRPORT', 'DAY_OF_WEEK', 'DEP_TIME_BLK'])['CONCURRENT_FLIGHTS'].median().reset_index().pivot_table(index=['DEPARTING_AIRPORT', 'DAY_OF_WEEK'], columns='DEP_TIME_BLK', values='CONCURRENT_FLIGHTS').ffill(axis=1).bfill(axis=1)\n",
    "    concurrent_flights = prepare_concurrent_flights_df(flight_data_clean)\n",
    "    prcp = flight_data_clean.groupby(['DEPARTING_AIRPORT', 'DEP_TIME_BLK'])['PRCP'].median().reset_index().pivot_table(index='DEPARTING_AIRPORT', columns='DEP_TIME_BLK', values='PRCP').ffill(axis=1).bfill(axis=1)\n",
    "    snow = flight_data_clean.groupby(['DEPARTING_AIRPORT', 'DEP_TIME_BLK'])['SNOW'].median().reset_index().pivot_table(index='DEPARTING_AIRPORT', columns='DEP_TIME_BLK', values='SNOW').ffill(axis=1).bfill(axis=1)\n",
    "    tmax = flight_data_clean.groupby(['DEPARTING_AIRPORT', 'DEP_TIME_BLK'])['TMAX'].median().reset_index().pivot_table(index='DEPARTING_AIRPORT', columns='DEP_TIME_BLK', values='TMAX').ffill(axis=1).bfill(axis=1)\n",
    "    awnd = flight_data_clean.groupby(['DEPARTING_AIRPORT', 'DEP_TIME_BLK'])['AWND'].median().reset_index().pivot_table(index='DEPARTING_AIRPORT', columns='DEP_TIME_BLK', values='AWND').ffill(axis=1).bfill(axis=1)\n",
    "    snwd = flight_data_clean.groupby(['DEPARTING_AIRPORT', 'DEP_TIME_BLK'])['SNWD'].median().reset_index().pivot_table(index='DEPARTING_AIRPORT', columns='DEP_TIME_BLK', values='SNWD').ffill(axis=1).bfill(axis=1)\n",
    "\n",
    "    flight_data_clean['NUMBER_OF_SEATS'] = flight_data_clean.apply(lambda x: x['NUMBER_OF_SEATS'] if pd.isna(x['NUMBER_OF_SEATS']) is False else avg_seats_per_airport_per_block.loc[x['DEPARTING_AIRPORT'], x['DEP_TIME_BLK']], axis=1)\n",
    "    flight_data_clean['PLANE_AGE'] = flight_data_clean.apply(lambda x: x['PLANE_AGE'] if pd.isna(x['PLANE_AGE']) is False else avg_plane_age_per_airline_per_block.loc[x['CARRIER_NAME'], x['DEP_TIME_BLK']], axis=1)\n",
    "    flight_data_clean['AIRLINE_AIRPORT_FLIGHTS_MONTH'] = flight_data_clean.apply(lambda x: x['AIRLINE_AIRPORT_FLIGHTS_MONTH'] if pd.isna(x['AIRLINE_AIRPORT_FLIGHTS_MONTH']) is False else avg_airline_airport_flights_month.loc[x['CARRIER_NAME'], x['DEPARTING_AIRPORT']], axis=1)\n",
    "    flight_data_clean['CONCURRENT_FLIGHTS'] = flight_data_clean.apply(lambda x: x['CONCURRENT_FLIGHTS'] if pd.isna(x['CONCURRENT_FLIGHTS']) is False else concurrent_flights.loc[(x['DEPARTING_AIRPORT'], x['DAY_OF_WEEK']), x['DEP_TIME_BLK']], axis=1)\n",
    "    flight_data_clean['PRCP'] = flight_data_clean.apply(lambda x: x['PRCP'] if pd.isna(x['PRCP']) is False else prcp.loc[x['DEPARTING_AIRPORT'], x['DEP_TIME_BLK']], axis=1)\n",
    "    flight_data_clean['SNOW'] = flight_data_clean.apply(lambda x: x['SNOW'] if pd.isna(x['SNOW']) is False else snow.loc[x['DEPARTING_AIRPORT'], x['DEP_TIME_BLK']], axis=1)\n",
    "    flight_data_clean['TMAX'] = flight_data_clean.apply(lambda x: x['TMAX'] if pd.isna(x['TMAX']) is False else tmax.loc[x['DEPARTING_AIRPORT'], x['DEP_TIME_BLK']], axis=1)\n",
    "    flight_data_clean['AWND'] = flight_data_clean.apply(lambda x: x['AWND'] if pd.isna(x['AWND']) is False else awnd.loc[x['DEPARTING_AIRPORT'], x['DEP_TIME_BLK']], axis=1)\n",
    "    flight_data_clean['SNWD'] = flight_data_clean.apply(lambda x: x['SNWD'] if pd.isna(x['SNWD']) is False else snwd.loc[x['DEPARTING_AIRPORT'], x['DEP_TIME_BLK']], axis=1)\n",
    "\n",
    "    return flight_data_clean"
   ]
  },
  {
   "cell_type": "code",
   "execution_count": 75,
   "id": "0e93f506",
   "metadata": {},
   "outputs": [],
   "source": [
    "def process_req_data(flight_data_clean):\n",
    "    flight_data_clean['DATE'] = flight_data_clean.apply(lambda x: cal_date(x['DAY_OF_WEEK'], x['MONTH'], x['YEAR']), axis=1)\n",
    "    flight_data_clean['LOW'] = flight_data_clean['DEP_TIME_BLK'].apply(lambda x: x.split('-')[0])\n",
    "    flight_data_clean['HIGH'] = flight_data_clean['DEP_TIME_BLK'].apply(lambda x: x.split('-')[1])\n",
    "    flight_data_clean['TIMESTAMP'] = flight_data_clean.apply(lambda x: cal_timestamp(x['DATE'], x['LOW']), axis=1)\n",
    "    flight_data_clean['WIND_CHILL'] = flight_data_clean['TMAX'] - flight_data_clean['AWND']\n",
    "    flight_data_clean['PRCP_SNOW_RATIO'] = flight_data_clean['PRCP'] / flight_data_clean['SNWD']\n",
    "    flight_data_clean['PLANE_AGE_AIRLINE_AIRPORT_FLIGHTS_MONTH_RATIO'] = flight_data_clean['PLANE_AGE'] / flight_data_clean['AIRLINE_AIRPORT_FLIGHTS_MONTH']\n",
    "    flight_data_clean['SEAT_DISTRIBUTION'] = flight_data_clean['NUMBER_OF_SEATS'] / flight_data_clean['CONCURRENT_FLIGHTS']\n",
    "    flight_data_clean['SEAT_DISTRIBUTION_NORMALISED'] = flight_data_clean['SEAT_DISTRIBUTION'] / flight_data_clean['SEAT_DISTRIBUTION'].sum()\n",
    "    \n",
    "    cols = ['DATE', 'LOW', 'HIGH', 'TIMESTAMP', 'WIND_CHILL', 'PRCP_SNOW_RATIO', 'PLANE_AGE_AIRLINE_AIRPORT_FLIGHTS_MONTH_RATIO', 'SEAT_DISTRIBUTION', 'SEAT_DISTRIBUTION_NORMALISED', 'DEP_DEL15']\n",
    "    flight_data_final = flight_data_clean[cols]\n",
    "    flight_data_final = flight_data_final.replace([-np.inf, np.inf], np.nan).fillna(0)\n",
    "    flight_data_final.loc[:, cols[4:]] = flight_data_final.loc[:, cols[4:]]\n",
    "    \n",
    "    return flight_data_final"
   ]
  },
  {
   "cell_type": "code",
   "execution_count": 78,
   "id": "63827289",
   "metadata": {},
   "outputs": [],
   "source": [
    "def apply_model(flight_data_clean, model_type):\n",
    "    X, Y = flight_data_final.drop(['DATE','TIMESTAMP', 'DEP_DEL15'], axis=1), flight_data_final['DEP_DEL15']\n",
    "    x_train, x_test, y_train, y_test = train_test_split(X, Y, test_size=0.2)\n",
    "    if model_type == 'logistic':\n",
    "        model = LogisticRegression()\n",
    "        model.fit(x_train, y_train)\n",
    "        y_pred = model.predict(x_test)\n",
    "        acc_score = accuracy_score(y_test, y_pred)\n",
    "        print(f'''Accuracy score for Logistic Regression: {acc_score}''')\n",
    "    elif model_type == 'nearest_neighbors':\n",
    "        acc_scores = pd.DataFrame(columns=['n', 'acc_scores'])\n",
    "        for idx, n in enumerate(np.arange(3, 15)):\n",
    "            model = KNeighborsClassifier(n_neighbors=n)\n",
    "            model.fit(x_train, y_train)\n",
    "            y_pred = model.predict(x_test)\n",
    "            acc_score = accuracy_score(y_test, y_pred)\n",
    "            acc_scores.loc[idx] = [n, acc_score]\n",
    "\n",
    "        acc_scores.plot(title='Accuracy Scores for KNearestNeighbors', x='n', y='acc_scores', kind='line')\n",
    "        plt.show()\n",
    "    else:\n",
    "        print('Model type unavailable')      "
   ]
  },
  {
   "cell_type": "code",
   "execution_count": 77,
   "id": "dcd4764a",
   "metadata": {},
   "outputs": [
    {
     "name": "stdout",
     "output_type": "stream",
     "text": [
      "Accuracy score: 0.8176\n"
     ]
    },
    {
     "data": {
      "image/png": "[encoded data removed]",
      "text/plain": [
       "<Figure size 432x288 with 1 Axes>"
      ]
     },
     "metadata": {
      "needs_background": "light"
     },
     "output_type": "display_data"
    }
   ],
   "source": [
    "flight_data_clean = pd.read_csv('participants_dataset_DES.csv')\n",
    "flight_data_clean = identify_missing_data(flight_data_clean)\n",
    "flight_data_clean = process_req_data(flight_data_clean)\n",
    "apply_model(flight_data_clean, 'logistic')\n",
    "apply_model(flight_data_clean, 'nearest_neighbors')\n",
    "flight_data_final.drop(['DEP_DEL15'], axis=1).to_csv('Submission_MachineHack_DES_Sajan_Ravindran.csv', index=False)"
   ]
  }
 ],
 "metadata": {
  "kernelspec": {
   "display_name": "Python 3",
   "language": "python",
   "name": "python3"
  },
  "language_info": {
   "codemirror_mode": {
    "name": "ipython",
    "version": 3
   },
   "file_extension": ".py",
   "mimetype": "text/x-python",
   "name": "python",
   "nbconvert_exporter": "python",
   "pygments_lexer": "ipython3",
   "version": "3.8.8"
  }
 },
 "nbformat": 4,
 "nbformat_minor": 5
}
