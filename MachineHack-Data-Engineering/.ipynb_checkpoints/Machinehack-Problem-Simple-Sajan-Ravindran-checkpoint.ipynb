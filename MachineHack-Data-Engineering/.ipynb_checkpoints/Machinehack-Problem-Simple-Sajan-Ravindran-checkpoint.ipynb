{
 "cells": [
  {
   "cell_type": "code",
   "execution_count": 1,
   "id": "fd5e4c43",
   "metadata": {},
   "outputs": [],
   "source": [
    "import pandas as pd \n",
    "import numpy as np \n",
    "from datetime import datetime\n",
    "import math, statistics "
   ]
  },
  {
   "cell_type": "code",
   "execution_count": 2,
   "id": "010bc9e0",
   "metadata": {},
   "outputs": [],
   "source": [
    "from sklearn.impute import KNNImputer \n",
    "from sklearn.model_selection import train_test_split \n",
    "from sklearn.linear_model import LogisticRegression \n",
    "from sklearn.metrics import accuracy_score"
   ]
  },
  {
   "cell_type": "markdown",
   "id": "4e7889b8",
   "metadata": {},
   "source": [
    "#### Brief checks on dataset "
   ]
  },
  {
   "cell_type": "code",
   "execution_count": null,
   "id": "d5a2e80d",
   "metadata": {},
   "outputs": [],
   "source": [
    "flight_data = pd.read_csv('participants_dataset_DES.csv')"
   ]
  },
  {
   "cell_type": "code",
   "execution_count": null,
   "id": "fa998ab0",
   "metadata": {},
   "outputs": [],
   "source": [
    "flight_data.head()"
   ]
  },
  {
   "cell_type": "code",
   "execution_count": null,
   "id": "6f51eb46",
   "metadata": {},
   "outputs": [],
   "source": [
    "flight_data.shape"
   ]
  },
  {
   "cell_type": "code",
   "execution_count": null,
   "id": "dfaced4d",
   "metadata": {},
   "outputs": [],
   "source": [
    "flight_data.head()"
   ]
  },
  {
   "cell_type": "code",
   "execution_count": null,
   "id": "28de82d6",
   "metadata": {},
   "outputs": [],
   "source": [
    "flight_data_clean = flight_data.dropna(how='any').reset_index(drop=True)"
   ]
  },
  {
   "cell_type": "code",
   "execution_count": null,
   "id": "f5b622be",
   "metadata": {},
   "outputs": [],
   "source": [
    "flight_data_clean.shape"
   ]
  },
  {
   "cell_type": "code",
   "execution_count": null,
   "id": "72eef0b9",
   "metadata": {},
   "outputs": [],
   "source": [
    "flight_data_clean['DAY_OF_WEEK'].unique(), flight_data['DAY_OF_WEEK'].unique()"
   ]
  },
  {
   "cell_type": "code",
   "execution_count": null,
   "id": "e9393261",
   "metadata": {},
   "outputs": [],
   "source": [
    "flight_data_clean['MONTH'].unique(), flight_data['MONTH'].unique()"
   ]
  },
  {
   "cell_type": "code",
   "execution_count": null,
   "id": "f8f2e949",
   "metadata": {},
   "outputs": [],
   "source": [
    "flight_data_clean['YEAR'].unique(), flight_data['YEAR'].unique()"
   ]
  },
  {
   "cell_type": "code",
   "execution_count": null,
   "id": "678242bb",
   "metadata": {},
   "outputs": [],
   "source": [
    "flight_data_clean['DEP_TIME_BLK'].unique()"
   ]
  },
  {
   "cell_type": "code",
   "execution_count": null,
   "id": "26db6090",
   "metadata": {},
   "outputs": [],
   "source": [
    "flight_data_clean['DEPARTING_AIRPORT'].unique()"
   ]
  },
  {
   "cell_type": "code",
   "execution_count": null,
   "id": "11ce0df4",
   "metadata": {},
   "outputs": [],
   "source": [
    "flight_data_clean.dtypes"
   ]
  },
  {
   "cell_type": "markdown",
   "id": "50551bcb",
   "metadata": {},
   "source": [
    "#### Final data-preprocessing "
   ]
  },
  {
   "cell_type": "code",
   "execution_count": 6,
   "id": "e01af7da",
   "metadata": {},
   "outputs": [],
   "source": [
    "def calc_wind_chill(tmax, awnd):\n",
    "    w_chill = 35.74 + 0.6215**tmax - 35.75 * awnd ** 0.16 + 0.4275 * tmax * awnd ** 0.16 \n",
    "    \n",
    "    return w_chill  "
   ]
  },
  {
   "cell_type": "code",
   "execution_count": 7,
   "id": "98e4a4ca",
   "metadata": {},
   "outputs": [],
   "source": [
    "def cal_date(day_of_week, month, year):\n",
    "    if (pd.isna(day_of_week) is False) & (pd.isna(month) is False) & (pd.isna(year) is False):\n",
    "        day_of_week, month, year = str(day_of_week), str(int(month)), str(int(year))\n",
    "        return '0' + day_of_week + '/' + '0' + month + '/' + year[-2:]\n",
    "    else:\n",
    "        return np.nan"
   ]
  },
  {
   "cell_type": "code",
   "execution_count": 8,
   "id": "ad3bef53",
   "metadata": {},
   "outputs": [],
   "source": [
    "def cal_timestamp(dt, low):\n",
    "    if (pd.isna(dt) is False) & (pd.isna(low) is False):\n",
    "        day, month, year, hh, mm = int(dt.split('/')[0]), int(dt.split('/')[1]), int('20' + dt.split('/')[2]), int(low[:2]), int(low[2:]) \n",
    "        return datetime.strftime(pd.Timestamp(day=day, month=month, year=year, hour=hh, minute=mm, second=0), '%d/%m/%y %H:%M')\n",
    "    else:\n",
    "        return np.nan "
   ]
  },
  {
   "cell_type": "code",
   "execution_count": 16,
   "id": "e3355721",
   "metadata": {},
   "outputs": [],
   "source": [
    "def prepare_concurrent_flights_df(df):\n",
    "    airports = df.DEPARTING_AIRPORT.unique()\n",
    "    weekdays = [sorted(df.DAY_OF_WEEK.unique())]*len(airports)\n",
    "    time_blk = [sorted(df.DEP_TIME_BLK.unique())] * len(airports)\n",
    "    con_flights = pd.DataFrame({'DEPARTING_AIRPORT': airports, 'DAY_OF_WEEK': weekdays, 'DEP_TIME_BLK': time_blk}).explode(['DAY_OF_WEEK']).explode(['DEP_TIME_BLK'])\n",
    "    con_dw_flights = df.groupby(['DEPARTING_AIRPORT', 'DAY_OF_WEEK', 'DEP_TIME_BLK'])['CONCURRENT_FLIGHTS'].median().reset_index()\n",
    "    concurrent_df = pd.merge(con_flights, con_dw_flights, on=['DEPARTING_AIRPORT', 'DAY_OF_WEEK', 'DEP_TIME_BLK'], how='left')\n",
    "    \n",
    "    ret_df = concurrent_df.pivot_table(index=['DEPARTING_AIRPORT', 'DAY_OF_WEEK'], columns='DEP_TIME_BLK', values='CONCURRENT_FLIGHTS', dropna=False, fill_value=0)\n",
    "    \n",
    "    return ret_df"
   ]
  },
  {
   "cell_type": "code",
   "execution_count": null,
   "id": "1cf92f9d",
   "metadata": {},
   "outputs": [],
   "source": [
    "flight_data = pd.read_csv('participants_dataset_DES.csv')"
   ]
  },
  {
   "cell_type": "code",
   "execution_count": 18,
   "id": "345d5f48",
   "metadata": {},
   "outputs": [],
   "source": [
    "flight_data_clean['YEAR'].fillna(2020, inplace=True)\n",
    "flight_data_clean['MONTH'].fillna(1, inplace=True)\n",
    "\n",
    "avg_seats_per_airport_per_block = flight_data_clean.groupby(['DEPARTING_AIRPORT', 'DEP_TIME_BLK'])['NUMBER_OF_SEATS'].median().reset_index().pivot_table(index='DEPARTING_AIRPORT', columns='DEP_TIME_BLK', values='NUMBER_OF_SEATS').ffill(axis=1).bfill(axis=1)\n",
    "avg_plane_age_per_airline_per_block = flight_data_clean.groupby(['CARRIER_NAME', 'DEP_TIME_BLK'])['PLANE_AGE'].median().reset_index().pivot_table(index='CARRIER_NAME', columns='DEP_TIME_BLK', values='PLANE_AGE').ffill(axis=1).bfill(axis=1)\n",
    "avg_airline_airport_flights_month = flight_data_clean.groupby(['CARRIER_NAME', 'DEPARTING_AIRPORT'])['AIRLINE_AIRPORT_FLIGHTS_MONTH'].apply(lambda x: x.median(skipna=True)).reset_index().pivot_table(index='CARRIER_NAME', columns='DEPARTING_AIRPORT', values='AIRLINE_AIRPORT_FLIGHTS_MONTH').ffill(axis=1).bfill(axis=1)\n",
    "concurrent_flights = flight_data_clean.groupby(['DEPARTING_AIRPORT', 'DAY_OF_WEEK', 'DEP_TIME_BLK'])['CONCURRENT_FLIGHTS'].median().reset_index().pivot_table(index=['DEPARTING_AIRPORT', 'DAY_OF_WEEK'], columns='DEP_TIME_BLK', values='CONCURRENT_FLIGHTS').ffill(axis=1).bfill(axis=1)\n",
    "concurrent_flights = prepare_concurrent_flights_df(flight_data_clean)\n",
    "prcp = flight_data_clean.groupby(['DEPARTING_AIRPORT', 'DEP_TIME_BLK'])['PRCP'].median().reset_index().pivot_table(index='DEPARTING_AIRPORT', columns='DEP_TIME_BLK', values='PRCP').ffill(axis=1).bfill(axis=1)\n",
    "snow = flight_data_clean.groupby(['DEPARTING_AIRPORT', 'DEP_TIME_BLK'])['SNOW'].median().reset_index().pivot_table(index='DEPARTING_AIRPORT', columns='DEP_TIME_BLK', values='SNOW').ffill(axis=1).bfill(axis=1)\n",
    "tmax = flight_data_clean.groupby(['DEPARTING_AIRPORT', 'DEP_TIME_BLK'])['TMAX'].median().reset_index().pivot_table(index='DEPARTING_AIRPORT', columns='DEP_TIME_BLK', values='TMAX').ffill(axis=1).bfill(axis=1)\n",
    "awnd = flight_data_clean.groupby(['DEPARTING_AIRPORT', 'DEP_TIME_BLK'])['AWND'].median().reset_index().pivot_table(index='DEPARTING_AIRPORT', columns='DEP_TIME_BLK', values='AWND').ffill(axis=1).bfill(axis=1)\n",
    "snwd = flight_data_clean.groupby(['DEPARTING_AIRPORT', 'DEP_TIME_BLK'])['SNWD'].median().reset_index().pivot_table(index='DEPARTING_AIRPORT', columns='DEP_TIME_BLK', values='SNWD').ffill(axis=1).bfill(axis=1)\n",
    "\n",
    "flight_data_clean['NUMBER_OF_SEATS'] = flight_data_clean.apply(lambda x: x['NUMBER_OF_SEATS'] if pd.isna(x['NUMBER_OF_SEATS']) is False else avg_seats_per_airport_per_block.loc[x['DEPARTING_AIRPORT'], x['DEP_TIME_BLK']], axis=1)\n",
    "flight_data_clean['PLANE_AGE'] = flight_data_clean.apply(lambda x: x['PLANE_AGE'] if pd.isna(x['PLANE_AGE']) is False else avg_plane_age_per_airline_per_block.loc[x['CARRIER_NAME'], x['DEP_TIME_BLK']], axis=1)\n",
    "flight_data_clean['AIRLINE_AIRPORT_FLIGHTS_MONTH'] = flight_data_clean.apply(lambda x: x['AIRLINE_AIRPORT_FLIGHTS_MONTH'] if pd.isna(x['AIRLINE_AIRPORT_FLIGHTS_MONTH']) is False else avg_airline_airport_flights_month.loc[x['CARRIER_NAME'], x['DEPARTING_AIRPORT']], axis=1)\n",
    "flight_data_clean['CONCURRENT_FLIGHTS'] = flight_data_clean.apply(lambda x: x['CONCURRENT_FLIGHTS'] if pd.isna(x['CONCURRENT_FLIGHTS']) is False else concurrent_flights.loc[(x['DEPARTING_AIRPORT'], x['DAY_OF_WEEK']), x['DEP_TIME_BLK']], axis=1)\n",
    "flight_data_clean['PRCP'] = flight_data_clean.apply(lambda x: x['PRCP'] if pd.isna(x['PRCP']) is False else prcp.loc[x['DEPARTING_AIRPORT'], x['DEP_TIME_BLK']], axis=1)\n",
    "flight_data_clean['SNOW'] = flight_data_clean.apply(lambda x: x['SNOW'] if pd.isna(x['SNOW']) is False else snow.loc[x['DEPARTING_AIRPORT'], x['DEP_TIME_BLK']], axis=1)\n",
    "flight_data_clean['TMAX'] = flight_data_clean.apply(lambda x: x['TMAX'] if pd.isna(x['TMAX']) is False else tmax.loc[x['DEPARTING_AIRPORT'], x['DEP_TIME_BLK']], axis=1)\n",
    "flight_data_clean['AWND'] = flight_data_clean.apply(lambda x: x['AWND'] if pd.isna(x['AWND']) is False else awnd.loc[x['DEPARTING_AIRPORT'], x['DEP_TIME_BLK']], axis=1)\n",
    "flight_data_clean['SNWD'] = flight_data_clean.apply(lambda x: x['SNWD'] if pd.isna(x['SNWD']) is False else snwd.loc[x['DEPARTING_AIRPORT'], x['DEP_TIME_BLK']], axis=1)\n"
   ]
  },
  {
   "cell_type": "code",
   "execution_count": 19,
   "id": "0e93f506",
   "metadata": {},
   "outputs": [],
   "source": [
    "flight_data_clean['DATE'] = flight_data_clean.apply(lambda x: cal_date(x['DAY_OF_WEEK'], x['MONTH'], x['YEAR']), axis=1)\n",
    "flight_data_clean['LOW'] = flight_data_clean['DEP_TIME_BLK'].apply(lambda x: x.split('-')[0])\n",
    "flight_data_clean['HIGH'] = flight_data_clean['DEP_TIME_BLK'].apply(lambda x: x.split('-')[1])\n",
    "flight_data_clean['TIMESTAMP'] = flight_data_clean.apply(lambda x: cal_timestamp(x['DATE'], x['LOW']), axis=1)\n",
    "flight_data_clean['WIND_CHILL'] = flight_data_clean['TMAX'] - flight_data_clean['AWND']\n",
    "flight_data_clean['PRCP_SNOW_RATIO'] = flight_data_clean['PRCP'] / flight_data_clean['SNWD']\n",
    "flight_data_clean['PLANE_AGE_AIRLINE_AIRPORT_FLIGHTS_MONTH_RATIO'] = flight_data_clean['PLANE_AGE'] / flight_data_clean['AIRLINE_AIRPORT_FLIGHTS_MONTH']\n",
    "flight_data_clean['SEAT_DISTRIBUTION'] = flight_data_clean['NUMBER_OF_SEATS'] / flight_data_clean['CONCURRENT_FLIGHTS']\n",
    "flight_data_clean['SEAT_DISTRIBUTION_NORMALISED'] = flight_data_clean['SEAT_DISTRIBUTION'] / flight_data_clean['SEAT_DISTRIBUTION'].sum()"
   ]
  },
  {
   "cell_type": "code",
   "execution_count": 22,
   "id": "9341892a",
   "metadata": {},
   "outputs": [],
   "source": [
    "cols = ['DATE', 'LOW', 'HIGH', 'TIMESTAMP', 'WIND_CHILL', 'PRCP_SNOW_RATIO', 'PLANE_AGE_AIRLINE_AIRPORT_FLIGHTS_MONTH_RATIO', 'SEAT_DISTRIBUTION', 'SEAT_DISTRIBUTION_NORMALISED']\n",
    "flight_data_final = flight_data_clean[cols]\n",
    "flight_data_final = flight_data_final.replace([-np.inf, np.inf], np.nan).fillna(0)\n",
    "flight_data_final.loc[:, cols[4:]] = flight_data_final.loc[:, cols[4:]]\n",
    "flight_data_final.to_csv('Submission_MachineHack_DES_Sajan_Ravindran.csv', index=False)"
   ]
  },
  {
   "cell_type": "code",
   "execution_count": 23,
   "id": "5bdd66b9",
   "metadata": {},
   "outputs": [
    {
     "data": {
      "text/plain": [
       "DATE                                             0\n",
       "LOW                                              0\n",
       "HIGH                                             0\n",
       "TIMESTAMP                                        0\n",
       "WIND_CHILL                                       0\n",
       "PRCP_SNOW_RATIO                                  0\n",
       "PLANE_AGE_AIRLINE_AIRPORT_FLIGHTS_MONTH_RATIO    0\n",
       "SEAT_DISTRIBUTION                                0\n",
       "SEAT_DISTRIBUTION_NORMALISED                     0\n",
       "dtype: int64"
      ]
     },
     "execution_count": 23,
     "metadata": {},
     "output_type": "execute_result"
    }
   ],
   "source": [
    "flight_data_final.isna().sum()"
   ]
  },
  {
   "cell_type": "markdown",
   "id": "0a8f40b3",
   "metadata": {},
   "source": [
    "#### KNN Imputation "
   ]
  },
  {
   "cell_type": "code",
   "execution_count": 3,
   "id": "fc252e1e",
   "metadata": {},
   "outputs": [],
   "source": [
    "flight_data = pd.read_csv('participants_dataset_DES.csv')"
   ]
  },
  {
   "cell_type": "code",
   "execution_count": 9,
   "id": "cc03acbd",
   "metadata": {},
   "outputs": [],
   "source": [
    "def validate_with_model(copy_df):\n",
    "    X = copy_df.drop(['DEP_DEL15'], axis=1)\n",
    "    Y = copy_df['DEP_DEL_15']\n",
    "    x_train, y_train, x_test, y_test = train_test_split(X, Y, test_size=0.2, random_state=10)\n",
    "    model = LogisticRegression()\n",
    "    model.fit(x_train, y_train)\n",
    "    y_pred = model.predict(x_test)\n",
    "    \n",
    "    return accuracy_score(y_test, y_pred)"
   ]
  },
  {
   "cell_type": "code",
   "execution_count": 17,
   "id": "2c16f10f",
   "metadata": {},
   "outputs": [],
   "source": [
    "def check_data(df):\n",
    "    scores_df = pd.DataFrame(columns=['neighbors', 'acc_score'])\n",
    "    df = pd.get_dummies(df)\n",
    "    for idx, n in enumerate(range(2, 3)):\n",
    "        imputer = KNNImputer(n_neighbors=n)\n",
    "        copy_df = df.copy()\n",
    "        copy_df = imputer.fit_transform(copy_df)\n",
    "        acc_score = validate_with_model(copy_df)\n",
    "        scores_df.loc[idx] = acc_score\n",
    "    \n",
    "    scores_df.plot(x='neighbors', y='acc_score', kind='line', grid=True, title='Accuracy Score vs. Neighbors')\n",
    "    print(scores_df)"
   ]
  },
  {
   "cell_type": "code",
   "execution_count": null,
   "id": "821a64bf",
   "metadata": {},
   "outputs": [],
   "source": [
    "imputer = KNNImputer(n_neighbors=2)\n",
    "copy_df = pd.get_dummies(flight_data.copy())\n",
    "copy_df = imputer.fit_transform(copy_df)"
   ]
  },
  {
   "cell_type": "code",
   "execution_count": null,
   "id": "84c32fb9",
   "metadata": {},
   "outputs": [],
   "source": []
  }
 ],
 "metadata": {
  "kernelspec": {
   "display_name": "Python 3",
   "language": "python",
   "name": "python3"
  },
  "language_info": {
   "codemirror_mode": {
    "name": "ipython",
    "version": 3
   },
   "file_extension": ".py",
   "mimetype": "text/x-python",
   "name": "python",
   "nbconvert_exporter": "python",
   "pygments_lexer": "ipython3",
   "version": "3.8.8"
  }
 },
 "nbformat": 4,
 "nbformat_minor": 5
}
