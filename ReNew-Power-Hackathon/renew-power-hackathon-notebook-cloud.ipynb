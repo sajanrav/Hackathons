{
 "cells": [
  {
   "cell_type": "markdown",
   "id": "28ac90c1",
   "metadata": {},
   "source": [
    "#### Import libraries "
   ]
  },
  {
   "cell_type": "code",
   "execution_count": 1,
   "id": "3828f090",
   "metadata": {
    "executionInfo": {
     "elapsed": 1312,
     "status": "ok",
     "timestamp": 1661503562287,
     "user": {
      "displayName": "Sajan Ravindran",
      "userId": "14729326503663364123"
     },
     "user_tz": -330
    },
    "id": "3828f090"
   },
   "outputs": [],
   "source": [
    "import pandas as pd \n",
    "import numpy as np \n",
    "from datetime import datetime \n",
    "import os \n",
    "from sklearn.model_selection import train_test_split \n",
    "from sklearn.linear_model import LinearRegression \n",
    "from sklearn.ensemble import RandomForestRegressor \n",
    "from sklearn.metrics import mean_squared_error\n",
    "import matplotlib.pyplot as plt\n",
    "%matplotlib inline "
   ]
  },
  {
   "cell_type": "markdown",
   "id": "e4479dcf",
   "metadata": {},
   "source": [
    "#### Mount google drive "
   ]
  },
  {
   "cell_type": "code",
   "execution_count": 9,
   "id": "-rx5ljnqTkfh",
   "metadata": {
    "colab": {
     "base_uri": "https://localhost:8080/"
    },
    "executionInfo": {
     "elapsed": 28529,
     "status": "ok",
     "timestamp": 1661507873065,
     "user": {
      "displayName": "Sajan Ravindran",
      "userId": "14729326503663364123"
     },
     "user_tz": -330
    },
    "id": "-rx5ljnqTkfh",
    "outputId": "31d62823-3585-4775-a0f1-22e4a0308452"
   },
   "outputs": [
    {
     "name": "stdout",
     "output_type": "stream",
     "text": [
      "Mounted at /content/drive\n"
     ]
    }
   ],
   "source": [
    "from google.colab import drive\n",
    "drive.mount('/content/drive')"
   ]
  },
  {
   "cell_type": "markdown",
   "id": "f8ddb40a",
   "metadata": {},
   "source": [
    "#### Load train and test data "
   ]
  },
  {
   "cell_type": "code",
   "execution_count": 2,
   "id": "3899146b",
   "metadata": {
    "executionInfo": {
     "elapsed": 3832,
     "status": "ok",
     "timestamp": 1661503572726,
     "user": {
      "displayName": "Sajan Ravindran",
      "userId": "14729326503663364123"
     },
     "user_tz": -330
    },
    "id": "3899146b"
   },
   "outputs": [],
   "source": [
    "train = pd.read_csv('train.csv')\n",
    "test = pd.read_csv('test.csv')"
   ]
  },
  {
   "cell_type": "code",
   "execution_count": 3,
   "id": "upzpzR8hj1PB",
   "metadata": {
    "colab": {
     "base_uri": "https://localhost:8080/"
    },
    "executionInfo": {
     "elapsed": 394,
     "status": "ok",
     "timestamp": 1661503580883,
     "user": {
      "displayName": "Sajan Ravindran",
      "userId": "14729326503663364123"
     },
     "user_tz": -330
    },
    "id": "upzpzR8hj1PB",
    "outputId": "5bbff930-159d-4cec-f985-60602f380629"
   },
   "outputs": [
    {
     "data": {
      "text/plain": [
       "(909604, 16)"
      ]
     },
     "execution_count": 3,
     "metadata": {},
     "output_type": "execute_result"
    }
   ],
   "source": [
    "train.shape"
   ]
  },
  {
   "cell_type": "markdown",
   "id": "d4642ec3",
   "metadata": {},
   "source": [
    "#### Calculate VIF values to check for multicollinearity ( This piece of code was a modified version of code snippet taken from Stackoverflow )"
   ]
  },
  {
   "cell_type": "code",
   "execution_count": null,
   "id": "ffa43006",
   "metadata": {},
   "outputs": [],
   "source": [
    "train_check = train_check.drop(['timestamp', 'Target', 'turbine_id'], axis=1)\n",
    "corr_df = train_check.corr()\n",
    "pd.Series(np.linalg.inv(train_check.corr().values).diagonal(), index==corr_df.index)"
   ]
  },
  {
   "cell_type": "markdown",
   "id": "bfa333b1",
   "metadata": {
    "id": "bfa333b1"
   },
   "source": [
    "#### Utility functions "
   ]
  },
  {
   "cell_type": "code",
   "execution_count": 4,
   "id": "1ec01387",
   "metadata": {
    "executionInfo": {
     "elapsed": 10,
     "status": "ok",
     "timestamp": 1661503587311,
     "user": {
      "displayName": "Sajan Ravindran",
      "userId": "14729326503663364123"
     },
     "user_tz": -330
    },
    "id": "1ec01387"
   },
   "outputs": [],
   "source": [
    "def preprocess1(df):\n",
    "    df['timestamp'] = pd.to_datetime(df['timestamp'])\n",
    "    df['month'] = df['timestamp'].dt.month \n",
    "    df['day'] = df['timestamp'].dt.day\n",
    "    df['hour'] = df['timestamp'].dt.hour \n",
    "    df['minute'] = df['timestamp'].dt.minute \n",
    "    \n",
    "    df = df.drop(['timestamp'], axis=1)\n",
    "    df = pd.get_dummies(df, columns=['turbine_id'])\n",
    "    \n",
    "    return df "
   ]
  },
  {
   "cell_type": "code",
   "execution_count": 5,
   "id": "MP4fDsRySsON",
   "metadata": {
    "executionInfo": {
     "elapsed": 13,
     "status": "ok",
     "timestamp": 1661503590721,
     "user": {
      "displayName": "Sajan Ravindran",
      "userId": "14729326503663364123"
     },
     "user_tz": -330
    },
    "id": "MP4fDsRySsON"
   },
   "outputs": [],
   "source": [
    "def preprocess_vif(df):\n",
    "    df['timestamp'] = pd.to_datetime(df['timestamp'])\n",
    "    df['month'] = df['timestamp'].dt.month \n",
    "    df['day'] = df['timestamp'].dt.day\n",
    "    df['hour'] = df['timestamp'].dt.hour \n",
    "    df['minute'] = df['timestamp'].dt.minute \n",
    "   \n",
    "    cols_to_drop = ['timestamp', 'active_power_calculated_by_converter', 'active_power_raw', \n",
    "                    'reactice_power_calculated_by_converter', 'reactive_power']\n",
    "    df = df.drop(cols_to_drop, axis=1)\n",
    "    df = pd.get_dummies(df, columns=['turbine_id'])\n",
    "    \n",
    "    return df "
   ]
  },
  {
   "cell_type": "markdown",
   "id": "ef2dfaf3",
   "metadata": {
    "id": "ef2dfaf3"
   },
   "source": [
    "#### All variables thrown into a linear regression model "
   ]
  },
  {
   "cell_type": "code",
   "execution_count": null,
   "id": "82c8b564",
   "metadata": {
    "id": "82c8b564"
   },
   "outputs": [],
   "source": [
    "def gen_lr_model(df):\n",
    "    X = df.drop(['Target'], axis=1)\n",
    "    Y = df['Target'].copy()\n",
    "    X_train, X_test, y_train, y_test = train_test_split(X, Y, random_state=0, test_size=0.25)\n",
    "    \n",
    "    model = LinearRegression()\n",
    "    model.fit(X_train, y_train)\n",
    "    \n",
    "    y_pred = model.predict(X_test)\n",
    "    mse = mean_squared_error(y_test, y_pred)\n",
    "    \n",
    "    return model, mse "
   ]
  },
  {
   "cell_type": "code",
   "execution_count": null,
   "id": "77403f73",
   "metadata": {
    "id": "77403f73"
   },
   "outputs": [],
   "source": [
    "train_preprocessed = preprocess1(train)\n",
    "m1, score1 = gen_lr_model(train_preprocessed)\n",
    "test_preprocessed = preprocess1(test)\n",
    "test_pred = m1.predict(test_preprocessed)\n",
    "pd.DataFrame({'Target':test_pred}).to_csv('m1.csv', index=False)\n",
    "score1"
   ]
  },
  {
   "cell_type": "markdown",
   "id": "80119317",
   "metadata": {
    "id": "80119317"
   },
   "source": [
    "#### All variables thrown into a random forest model "
   ]
  },
  {
   "cell_type": "code",
   "execution_count": 6,
   "id": "8bef15d1",
   "metadata": {
    "executionInfo": {
     "elapsed": 493,
     "status": "ok",
     "timestamp": 1661503607963,
     "user": {
      "displayName": "Sajan Ravindran",
      "userId": "14729326503663364123"
     },
     "user_tz": -330
    },
    "id": "8bef15d1"
   },
   "outputs": [],
   "source": [
    "def gen_random_forest_model(df,n_est):\n",
    "    X = df.drop(['Target'], axis=1)\n",
    "    Y = df['Target'].copy()\n",
    "    X_train, X_test, y_train, y_test = train_test_split(X, Y, random_state=0, test_size=0.25)\n",
    "    \n",
    "    model = RandomForestRegressor(n_estimators=n_est, random_state=0)\n",
    "    model.fit(X_train, y_train)\n",
    "    \n",
    "    y_pred = model.predict(X_test)\n",
    "    mse = mean_squared_error(y_test, y_pred)\n",
    "    \n",
    "    return model, mse "
   ]
  },
  {
   "cell_type": "markdown",
   "id": "0aaa433d",
   "metadata": {
    "id": "0aaa433d"
   },
   "source": [
    "##### num_estimators = 10 "
   ]
  },
  {
   "cell_type": "code",
   "execution_count": null,
   "id": "7c403b92",
   "metadata": {
    "id": "7c403b92",
    "outputId": "71f8190d-7015-4ca2-ca00-7b1a6d838fc9"
   },
   "outputs": [
    {
     "data": {
      "text/plain": [
       "0.24059807071732525"
      ]
     },
     "execution_count": 6,
     "metadata": {},
     "output_type": "execute_result"
    }
   ],
   "source": [
    "train_preprocessed = preprocess1(train)\n",
    "m2, score2 = gen_random_forest_model(train_preprocessed, 10)\n",
    "test_preprocessed = preprocess1(test)\n",
    "test_pred = m2.predict(test_preprocessed)\n",
    "pd.DataFrame({'Target':test_pred}).to_csv('m2.csv', index=False)\n",
    "score2"
   ]
  },
  {
   "cell_type": "markdown",
   "id": "bf2ef8bc",
   "metadata": {
    "id": "bf2ef8bc"
   },
   "source": [
    "##### num_estimators = 50 "
   ]
  },
  {
   "cell_type": "code",
   "execution_count": null,
   "id": "ef0f8b74",
   "metadata": {
    "id": "ef0f8b74",
    "outputId": "7063ed9b-4b63-4e49-a5c7-4e744330c5fc"
   },
   "outputs": [
    {
     "data": {
      "text/plain": [
       "0.20109517358694004"
      ]
     },
     "execution_count": 8,
     "metadata": {},
     "output_type": "execute_result"
    }
   ],
   "source": [
    "train_preprocessed = preprocess1(train)\n",
    "m3, score3 = gen_random_forest_model(train_preprocessed, 50)\n",
    "test_preprocessed = preprocess1(test)\n",
    "test_pred = m3.predict(test_preprocessed)\n",
    "pd.DataFrame({'Target':test_pred}).to_csv('m3.csv', index=False)\n",
    "score3"
   ]
  },
  {
   "cell_type": "markdown",
   "id": "810c27ef",
   "metadata": {
    "id": "810c27ef"
   },
   "source": [
    "##### num_estimators = 100 "
   ]
  },
  {
   "cell_type": "code",
   "execution_count": null,
   "id": "03fefa9b",
   "metadata": {
    "colab": {
     "base_uri": "https://localhost:8080/"
    },
    "executionInfo": {
     "elapsed": 2113134,
     "status": "ok",
     "timestamp": 1661259900861,
     "user": {
      "displayName": "Sajan Ravindran",
      "userId": "14729326503663364123"
     },
     "user_tz": -330
    },
    "id": "03fefa9b",
    "outputId": "6b8f3559-fa8b-48d8-8287-3253c8b198d1"
   },
   "outputs": [
    {
     "data": {
      "text/plain": [
       "0.1972294202556921"
      ]
     },
     "execution_count": 5,
     "metadata": {},
     "output_type": "execute_result"
    }
   ],
   "source": [
    "train_preprocessed = preprocess1(train)\n",
    "m4, score4 = gen_random_forest_model(train_preprocessed, 100)\n",
    "test_preprocessed = preprocess1(test)\n",
    "test_pred = m4.predict(test_preprocessed)\n",
    "pd.DataFrame({'Target':test_pred}).to_csv('sample_data/m4.csv', index=False)\n",
    "score4"
   ]
  },
  {
   "cell_type": "markdown",
   "id": "5bf6a311",
   "metadata": {
    "id": "4_14TOmkTQXX"
   },
   "source": [
    "##### num_estimators=50 ( VIF applied on 4 columns )"
   ]
  },
  {
   "cell_type": "code",
   "execution_count": 7,
   "id": "hJQDuLPZSwWF",
   "metadata": {
    "colab": {
     "base_uri": "https://localhost:8080/"
    },
    "executionInfo": {
     "elapsed": 765284,
     "status": "ok",
     "timestamp": 1661504378858,
     "user": {
      "displayName": "Sajan Ravindran",
      "userId": "14729326503663364123"
     },
     "user_tz": -330
    },
    "id": "hJQDuLPZSwWF",
    "outputId": "803d9d36-81c3-4aa8-bf3e-dcffb7a80d77"
   },
   "outputs": [
    {
     "data": {
      "text/plain": [
       "0.19014907146466956"
      ]
     },
     "execution_count": 7,
     "metadata": {},
     "output_type": "execute_result"
    }
   ],
   "source": [
    "train_preprocessed = preprocess_vif(train)\n",
    "test_preprocessed = preprocess_vif(test)\n",
    "\n",
    "m8, score8 = gen_random_forest_model(train_preprocessed, 50)\n",
    "test_pred = m8.predict(test_preprocessed)\n",
    "pd.DataFrame({'Target':test_pred}).to_csv('m8.csv', index=False)\n",
    "score8"
   ]
  },
  {
   "cell_type": "markdown",
   "id": "24b2e4ce",
   "metadata": {
    "id": "n_ACDEPmTXlO"
   },
   "source": [
    "##### num_estimators=100 ( VIF applied on 4 columns )"
   ]
  },
  {
   "cell_type": "code",
   "execution_count": 8,
   "id": "jfeUnt4qS1t0",
   "metadata": {
    "colab": {
     "base_uri": "https://localhost:8080/"
    },
    "executionInfo": {
     "elapsed": 1481871,
     "status": "ok",
     "timestamp": 1661506458192,
     "user": {
      "displayName": "Sajan Ravindran",
      "userId": "14729326503663364123"
     },
     "user_tz": -330
    },
    "id": "jfeUnt4qS1t0",
    "outputId": "cb1388c0-8eb0-456f-e279-64bcd97f67f3"
   },
   "outputs": [
    {
     "data": {
      "text/plain": [
       "0.1865892274846279"
      ]
     },
     "execution_count": 8,
     "metadata": {},
     "output_type": "execute_result"
    }
   ],
   "source": [
    "train_preprocessed = preprocess_vif(train)\n",
    "test_preprocessed = preprocess_vif(test)\n",
    "\n",
    "m9, score9 = gen_random_forest_model(train_preprocessed, 100)\n",
    "test_pred = m9.predict(test_preprocessed)\n",
    "pd.DataFrame({'Target':test_pred}).to_csv('m9.csv', index=False)\n",
    "score9 "
   ]
  }
 ],
 "metadata": {
  "colab": {
   "name": "renew-power-hackathon-notebook.ipynb",
   "provenance": []
  },
  "kernelspec": {
   "display_name": "Python 3",
   "language": "python",
   "name": "python3"
  },
  "language_info": {
   "codemirror_mode": {
    "name": "ipython",
    "version": 3
   },
   "file_extension": ".py",
   "mimetype": "text/x-python",
   "name": "python",
   "nbconvert_exporter": "python",
   "pygments_lexer": "ipython3",
   "version": "3.8.8"
  }
 },
 "nbformat": 4,
 "nbformat_minor": 5
}
